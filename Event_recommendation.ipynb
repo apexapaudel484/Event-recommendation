{
 "cells": [
  {
   "cell_type": "code",
   "execution_count": 1,
   "id": "f520c5b2",
   "metadata": {},
   "outputs": [],
   "source": [
    "import pandas as pd\n",
    "import numpy as np"
   ]
  },
  {
   "cell_type": "code",
   "execution_count": 2,
   "id": "0def6094",
   "metadata": {},
   "outputs": [],
   "source": [
    "data= pd.read_csv(\"event_data.csv\")"
   ]
  },
  {
   "cell_type": "code",
   "execution_count": 3,
   "id": "1ef89a2b",
   "metadata": {},
   "outputs": [
    {
     "data": {
      "text/html": [
       "<div>\n",
       "<style scoped>\n",
       "    .dataframe tbody tr th:only-of-type {\n",
       "        vertical-align: middle;\n",
       "    }\n",
       "\n",
       "    .dataframe tbody tr th {\n",
       "        vertical-align: top;\n",
       "    }\n",
       "\n",
       "    .dataframe thead th {\n",
       "        text-align: right;\n",
       "    }\n",
       "</style>\n",
       "<table border=\"1\" class=\"dataframe\">\n",
       "  <thead>\n",
       "    <tr style=\"text-align: right;\">\n",
       "      <th></th>\n",
       "      <th>Unnamed: 0</th>\n",
       "      <th>Name</th>\n",
       "      <th>Price</th>\n",
       "      <th>Date_time</th>\n",
       "      <th>Location</th>\n",
       "      <th>About</th>\n",
       "    </tr>\n",
       "  </thead>\n",
       "  <tbody>\n",
       "    <tr>\n",
       "      <th>0</th>\n",
       "      <td>0</td>\n",
       "      <td>NEW YEARS EVE 5 HOURS PREMIUM OPEN BAR AT KATRA</td>\n",
       "      <td>From $32.64</td>\n",
       "      <td>December 31 · 9pm - January 1, 2024 · 4am EST</td>\n",
       "      <td>Katra</td>\n",
       "      <td>5 HOURS OF PREMIUM OPEN BARCHAMPAGNE TOAST AT ...</td>\n",
       "    </tr>\n",
       "    <tr>\n",
       "      <th>1</th>\n",
       "      <td>1</td>\n",
       "      <td>ROOFTOP WATCH PARTY | SUITE FOOD LOUNGE</td>\n",
       "      <td>Free</td>\n",
       "      <td>Saturday, December 30 · 3 - 9pm EST</td>\n",
       "      <td>Suite Food Lounge</td>\n",
       "      <td>Celebrity guest, live music by Atlanta's top D...</td>\n",
       "    </tr>\n",
       "    <tr>\n",
       "      <th>2</th>\n",
       "      <td>2</td>\n",
       "      <td>THE GREATEST SHOW ON EARTH REVEL ATLANTA</td>\n",
       "      <td>NaN</td>\n",
       "      <td>December 23 · 10pm - December 24 · 3am EST</td>\n",
       "      <td>REVEL ATLANTA</td>\n",
       "      <td>Join us every week at THE GREATEST SHOW ON EAR...</td>\n",
       "    </tr>\n",
       "    <tr>\n",
       "      <th>3</th>\n",
       "      <td>3</td>\n",
       "      <td>THE GREATEST NYE ON EARTH NEW YEARS EVE | REVE...</td>\n",
       "      <td>$0 – $100</td>\n",
       "      <td>Ends on Monday, January 1, 2024 · 3am EST</td>\n",
       "      <td>Revel</td>\n",
       "      <td>THE GREATEST NEW YEAR'S EVE ON EARTH 2024 | RE...</td>\n",
       "    </tr>\n",
       "    <tr>\n",
       "      <th>4</th>\n",
       "      <td>4</td>\n",
       "      <td>HANGOVER ROOFTOP BRUNCH AT SUITE LOUNGE</td>\n",
       "      <td>NaN</td>\n",
       "      <td>Monday, January 1, 2024 · 3 - 9pm EST</td>\n",
       "      <td>Suite Food Lounge</td>\n",
       "      <td>Welcome to the Hangover Rooftop Brunch at Suit...</td>\n",
       "    </tr>\n",
       "  </tbody>\n",
       "</table>\n",
       "</div>"
      ],
      "text/plain": [
       "   Unnamed: 0                                               Name        Price  \\\n",
       "0           0    NEW YEARS EVE 5 HOURS PREMIUM OPEN BAR AT KATRA  From $32.64   \n",
       "1           1            ROOFTOP WATCH PARTY | SUITE FOOD LOUNGE         Free   \n",
       "2           2           THE GREATEST SHOW ON EARTH REVEL ATLANTA          NaN   \n",
       "3           3  THE GREATEST NYE ON EARTH NEW YEARS EVE | REVE...    $0 – $100   \n",
       "4           4            HANGOVER ROOFTOP BRUNCH AT SUITE LOUNGE          NaN   \n",
       "\n",
       "                                       Date_time           Location  \\\n",
       "0  December 31 · 9pm - January 1, 2024 · 4am EST              Katra   \n",
       "1            Saturday, December 30 · 3 - 9pm EST  Suite Food Lounge   \n",
       "2     December 23 · 10pm - December 24 · 3am EST      REVEL ATLANTA   \n",
       "3      Ends on Monday, January 1, 2024 · 3am EST              Revel   \n",
       "4          Monday, January 1, 2024 · 3 - 9pm EST  Suite Food Lounge   \n",
       "\n",
       "                                               About  \n",
       "0  5 HOURS OF PREMIUM OPEN BARCHAMPAGNE TOAST AT ...  \n",
       "1  Celebrity guest, live music by Atlanta's top D...  \n",
       "2  Join us every week at THE GREATEST SHOW ON EAR...  \n",
       "3  THE GREATEST NEW YEAR'S EVE ON EARTH 2024 | RE...  \n",
       "4  Welcome to the Hangover Rooftop Brunch at Suit...  "
      ]
     },
     "execution_count": 3,
     "metadata": {},
     "output_type": "execute_result"
    }
   ],
   "source": [
    "data.head()"
   ]
  },
  {
   "cell_type": "code",
   "execution_count": 4,
   "id": "6b10ca50",
   "metadata": {},
   "outputs": [
    {
     "data": {
      "text/plain": [
       "Unnamed: 0     0\n",
       "Name           0\n",
       "Price         43\n",
       "Date_time     38\n",
       "Location      36\n",
       "About         37\n",
       "dtype: int64"
      ]
     },
     "execution_count": 4,
     "metadata": {},
     "output_type": "execute_result"
    }
   ],
   "source": [
    "data.isnull().sum()"
   ]
  },
  {
   "cell_type": "code",
   "execution_count": 5,
   "id": "f6d2c403",
   "metadata": {},
   "outputs": [],
   "source": [
    "data.dropna(inplace=True)"
   ]
  },
  {
   "cell_type": "code",
   "execution_count": 6,
   "id": "c43609d9",
   "metadata": {},
   "outputs": [
    {
     "data": {
      "text/plain": [
       "0"
      ]
     },
     "execution_count": 6,
     "metadata": {},
     "output_type": "execute_result"
    }
   ],
   "source": [
    "data.duplicated().sum()"
   ]
  },
  {
   "cell_type": "code",
   "execution_count": 7,
   "id": "cc96866a",
   "metadata": {},
   "outputs": [
    {
     "data": {
      "text/plain": [
       "(75, 6)"
      ]
     },
     "execution_count": 7,
     "metadata": {},
     "output_type": "execute_result"
    }
   ],
   "source": [
    "data.shape"
   ]
  },
  {
   "cell_type": "code",
   "execution_count": 8,
   "id": "8be51872",
   "metadata": {},
   "outputs": [],
   "source": [
    "data['Id']=data.reset_index().index"
   ]
  },
  {
   "cell_type": "code",
   "execution_count": 9,
   "id": "9f50de4e",
   "metadata": {},
   "outputs": [],
   "source": [
    "data= data[['Id','Name','Price','Date_time','Location','About']]"
   ]
  },
  {
   "cell_type": "code",
   "execution_count": 10,
   "id": "f4ad5cac",
   "metadata": {},
   "outputs": [
    {
     "data": {
      "text/plain": [
       "0      5 HOURS OF PREMIUM OPEN BARCHAMPAGNE TOAST AT ...\n",
       "1      Celebrity guest, live music by Atlanta's top D...\n",
       "3      THE GREATEST NEW YEAR'S EVE ON EARTH 2024 | RE...\n",
       "5      Ring in NYE 2024 at the Hilton Chicago!  Chica...\n",
       "6      Jim Irsay’s world-renowned collection—a travel...\n",
       "                             ...                        \n",
       "78     @riseandtoastRISE + TOASTHOSTED BY MACHEL MONT...\n",
       "79     *Hey Philly - You're Chocolateest Festival is ...\n",
       "80     🎉 Welcome the New Year in Style at Austin's Fa...\n",
       "100    Bring in 2024 with legacy musician Vegas Cola ...\n",
       "101    WINTER ZESS!!!! ZESS ZESS & MORE ZESS, All roa...\n",
       "Name: About, Length: 75, dtype: object"
      ]
     },
     "execution_count": 10,
     "metadata": {},
     "output_type": "execute_result"
    }
   ],
   "source": [
    "data[\"About\"]"
   ]
  },
  {
   "cell_type": "code",
   "execution_count": 11,
   "id": "785660aa",
   "metadata": {},
   "outputs": [],
   "source": [
    "data[\"About\"] = data[\"About\"].apply(lambda x:x.split())\n",
    "data['Date_time']=data['Date_time'].apply(lambda x:x.split())\n",
    "data['Location']=data['Location'].apply(lambda x:x.split())\n"
   ]
  },
  {
   "cell_type": "code",
   "execution_count": 12,
   "id": "f7a43d48",
   "metadata": {},
   "outputs": [
    {
     "data": {
      "text/html": [
       "<div>\n",
       "<style scoped>\n",
       "    .dataframe tbody tr th:only-of-type {\n",
       "        vertical-align: middle;\n",
       "    }\n",
       "\n",
       "    .dataframe tbody tr th {\n",
       "        vertical-align: top;\n",
       "    }\n",
       "\n",
       "    .dataframe thead th {\n",
       "        text-align: right;\n",
       "    }\n",
       "</style>\n",
       "<table border=\"1\" class=\"dataframe\">\n",
       "  <thead>\n",
       "    <tr style=\"text-align: right;\">\n",
       "      <th></th>\n",
       "      <th>Id</th>\n",
       "      <th>Name</th>\n",
       "      <th>Price</th>\n",
       "      <th>Date_time</th>\n",
       "      <th>Location</th>\n",
       "      <th>About</th>\n",
       "    </tr>\n",
       "  </thead>\n",
       "  <tbody>\n",
       "    <tr>\n",
       "      <th>0</th>\n",
       "      <td>0</td>\n",
       "      <td>NEW YEARS EVE 5 HOURS PREMIUM OPEN BAR AT KATRA</td>\n",
       "      <td>From $32.64</td>\n",
       "      <td>[December, 31, ·, 9pm, -, January, 1,, 2024, ·...</td>\n",
       "      <td>[Katra]</td>\n",
       "      <td>[5, HOURS, OF, PREMIUM, OPEN, BARCHAMPAGNE, TO...</td>\n",
       "    </tr>\n",
       "    <tr>\n",
       "      <th>1</th>\n",
       "      <td>1</td>\n",
       "      <td>ROOFTOP WATCH PARTY | SUITE FOOD LOUNGE</td>\n",
       "      <td>Free</td>\n",
       "      <td>[Saturday,, December, 30, ·, 3, -, 9pm, EST]</td>\n",
       "      <td>[Suite, Food, Lounge]</td>\n",
       "      <td>[Celebrity, guest,, live, music, by, Atlanta's...</td>\n",
       "    </tr>\n",
       "    <tr>\n",
       "      <th>3</th>\n",
       "      <td>2</td>\n",
       "      <td>THE GREATEST NYE ON EARTH NEW YEARS EVE | REVE...</td>\n",
       "      <td>$0 – $100</td>\n",
       "      <td>[Ends, on, Monday,, January, 1,, 2024, ·, 3am,...</td>\n",
       "      <td>[Revel]</td>\n",
       "      <td>[THE, GREATEST, NEW, YEAR'S, EVE, ON, EARTH, 2...</td>\n",
       "    </tr>\n",
       "    <tr>\n",
       "      <th>5</th>\n",
       "      <td>3</td>\n",
       "      <td>New Year's Eve Party 2024 at Hilton Chicago wi...</td>\n",
       "      <td>$20 – $3,000</td>\n",
       "      <td>[December, 31, ·, 9pm, -, January, 1,, 2024, ·...</td>\n",
       "      <td>[Hilton, Chicago]</td>\n",
       "      <td>[Ring, in, NYE, 2024, at, the, Hilton, Chicago...</td>\n",
       "    </tr>\n",
       "    <tr>\n",
       "      <th>6</th>\n",
       "      <td>4</td>\n",
       "      <td>Jim Irsay Collection Exhibit &amp; Concert, Los An...</td>\n",
       "      <td>Free</td>\n",
       "      <td>[Thursday,, January, 11,, 2024, ·, 6:30, -, 10...</td>\n",
       "      <td>[Shrine, Auditorium, and, Expo, Hall]</td>\n",
       "      <td>[Jim, Irsay’s, world-renowned, collection—a, t...</td>\n",
       "    </tr>\n",
       "  </tbody>\n",
       "</table>\n",
       "</div>"
      ],
      "text/plain": [
       "   Id                                               Name         Price  \\\n",
       "0   0    NEW YEARS EVE 5 HOURS PREMIUM OPEN BAR AT KATRA   From $32.64   \n",
       "1   1            ROOFTOP WATCH PARTY | SUITE FOOD LOUNGE          Free   \n",
       "3   2  THE GREATEST NYE ON EARTH NEW YEARS EVE | REVE...     $0 – $100   \n",
       "5   3  New Year's Eve Party 2024 at Hilton Chicago wi...  $20 – $3,000   \n",
       "6   4  Jim Irsay Collection Exhibit & Concert, Los An...          Free   \n",
       "\n",
       "                                           Date_time  \\\n",
       "0  [December, 31, ·, 9pm, -, January, 1,, 2024, ·...   \n",
       "1       [Saturday,, December, 30, ·, 3, -, 9pm, EST]   \n",
       "3  [Ends, on, Monday,, January, 1,, 2024, ·, 3am,...   \n",
       "5  [December, 31, ·, 9pm, -, January, 1,, 2024, ·...   \n",
       "6  [Thursday,, January, 11,, 2024, ·, 6:30, -, 10...   \n",
       "\n",
       "                                Location  \\\n",
       "0                                [Katra]   \n",
       "1                  [Suite, Food, Lounge]   \n",
       "3                                [Revel]   \n",
       "5                      [Hilton, Chicago]   \n",
       "6  [Shrine, Auditorium, and, Expo, Hall]   \n",
       "\n",
       "                                               About  \n",
       "0  [5, HOURS, OF, PREMIUM, OPEN, BARCHAMPAGNE, TO...  \n",
       "1  [Celebrity, guest,, live, music, by, Atlanta's...  \n",
       "3  [THE, GREATEST, NEW, YEAR'S, EVE, ON, EARTH, 2...  \n",
       "5  [Ring, in, NYE, 2024, at, the, Hilton, Chicago...  \n",
       "6  [Jim, Irsay’s, world-renowned, collection—a, t...  "
      ]
     },
     "execution_count": 12,
     "metadata": {},
     "output_type": "execute_result"
    }
   ],
   "source": [
    "data.head()"
   ]
  },
  {
   "cell_type": "code",
   "execution_count": null,
   "id": "cbe811e6",
   "metadata": {},
   "outputs": [],
   "source": [
    "\n"
   ]
  },
  {
   "cell_type": "code",
   "execution_count": null,
   "id": "de675e81",
   "metadata": {},
   "outputs": [],
   "source": []
  }
 ],
 "metadata": {
  "kernelspec": {
   "display_name": "Python 3 (ipykernel)",
   "language": "python",
   "name": "python3"
  },
  "language_info": {
   "codemirror_mode": {
    "name": "ipython",
    "version": 3
   },
   "file_extension": ".py",
   "mimetype": "text/x-python",
   "name": "python",
   "nbconvert_exporter": "python",
   "pygments_lexer": "ipython3",
   "version": "3.10.12"
  }
 },
 "nbformat": 4,
 "nbformat_minor": 5
}
