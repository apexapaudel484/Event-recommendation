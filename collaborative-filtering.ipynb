{
 "cells": [
  {
   "cell_type": "code",
   "execution_count": 1,
   "id": "2c6aa799",
   "metadata": {
    "_cell_guid": "b1076dfc-b9ad-4769-8c92-a6c4dae69d19",
    "_uuid": "8f2839f25d086af736a60e9eeb907d3b93b6e0e5",
    "execution": {
     "iopub.execute_input": "2024-01-04T13:52:01.345812Z",
     "iopub.status.busy": "2024-01-04T13:52:01.345286Z",
     "iopub.status.idle": "2024-01-04T13:52:01.766596Z",
     "shell.execute_reply": "2024-01-04T13:52:01.765274Z"
    },
    "papermill": {
     "duration": 0.435952,
     "end_time": "2024-01-04T13:52:01.769765",
     "exception": false,
     "start_time": "2024-01-04T13:52:01.333813",
     "status": "completed"
    },
    "tags": []
   },
   "outputs": [],
   "source": [
    "import numpy as np \n",
    "import pandas as pd "
   ]
  },
  {
   "cell_type": "code",
   "execution_count": 2,
   "id": "73ae8f94",
   "metadata": {
    "execution": {
     "iopub.execute_input": "2024-01-04T13:52:01.788348Z",
     "iopub.status.busy": "2024-01-04T13:52:01.787268Z",
     "iopub.status.idle": "2024-01-04T13:52:55.924339Z",
     "shell.execute_reply": "2024-01-04T13:52:55.923046Z"
    },
    "papermill": {
     "duration": 54.149259,
     "end_time": "2024-01-04T13:52:55.927355",
     "exception": false,
     "start_time": "2024-01-04T13:52:01.778096",
     "status": "completed"
    },
    "tags": []
   },
   "outputs": [],
   "source": [
    "att = '/kaggle/input/event-recommendation-engine-challenge/event_attendees.csv.gz'\n",
    "events=\"/kaggle/input/event-recommendation-engine-challenge/events.csv.gz\"\n",
    "friends='/kaggle/input/event-recommendation-engine-challenge/user_friends.csv.gz'\n",
    "test=pd.read_csv('/kaggle/input/event-recommendation-engine-challenge/test.csv')\n",
    "train=pd.read_csv('/kaggle/input/event-recommendation-engine-challenge/train.csv')\n",
    "user=pd.read_csv('/kaggle/input/event-recommendation-engine-challenge/users.csv')\n",
    "# Read the gzipped CSV file into a DataFrame\n",
    "attendee = pd.read_csv(att, compression='gzip')\n",
    "event= pd.read_csv(events, compression='gzip')\n",
    "friend= pd.read_csv(friends, compression='gzip')\n"
   ]
  },
  {
   "cell_type": "code",
   "execution_count": 3,
   "id": "89fab81a",
   "metadata": {
    "execution": {
     "iopub.execute_input": "2024-01-04T13:52:55.945914Z",
     "iopub.status.busy": "2024-01-04T13:52:55.945435Z",
     "iopub.status.idle": "2024-01-04T13:52:55.972053Z",
     "shell.execute_reply": "2024-01-04T13:52:55.971013Z"
    },
    "papermill": {
     "duration": 0.039191,
     "end_time": "2024-01-04T13:52:55.975060",
     "exception": false,
     "start_time": "2024-01-04T13:52:55.935869",
     "status": "completed"
    },
    "tags": []
   },
   "outputs": [
    {
     "data": {
      "text/html": [
       "<div>\n",
       "<style scoped>\n",
       "    .dataframe tbody tr th:only-of-type {\n",
       "        vertical-align: middle;\n",
       "    }\n",
       "\n",
       "    .dataframe tbody tr th {\n",
       "        vertical-align: top;\n",
       "    }\n",
       "\n",
       "    .dataframe thead th {\n",
       "        text-align: right;\n",
       "    }\n",
       "</style>\n",
       "<table border=\"1\" class=\"dataframe\">\n",
       "  <thead>\n",
       "    <tr style=\"text-align: right;\">\n",
       "      <th></th>\n",
       "      <th>event</th>\n",
       "      <th>yes</th>\n",
       "      <th>maybe</th>\n",
       "      <th>invited</th>\n",
       "      <th>no</th>\n",
       "    </tr>\n",
       "  </thead>\n",
       "  <tbody>\n",
       "    <tr>\n",
       "      <th>0</th>\n",
       "      <td>1159822043</td>\n",
       "      <td>1975964455 252302513 4226086795 3805886383 142...</td>\n",
       "      <td>2733420590 517546982 1350834692 532087573 5831...</td>\n",
       "      <td>1723091036 3795873583 4109144917 3560622906 31...</td>\n",
       "      <td>3575574655 1077296663</td>\n",
       "    </tr>\n",
       "    <tr>\n",
       "      <th>1</th>\n",
       "      <td>686467261</td>\n",
       "      <td>2394228942 2686116898 1056558062 3792942231 41...</td>\n",
       "      <td>1498184352 645689144 3770076778 331335845 4239...</td>\n",
       "      <td>1788073374 733302094 1830571649 676508092 7081...</td>\n",
       "      <td>NaN</td>\n",
       "    </tr>\n",
       "    <tr>\n",
       "      <th>2</th>\n",
       "      <td>1186208412</td>\n",
       "      <td>NaN</td>\n",
       "      <td>3320380166 3810793697</td>\n",
       "      <td>1379121209 440668682</td>\n",
       "      <td>1728988561 2950720854</td>\n",
       "    </tr>\n",
       "    <tr>\n",
       "      <th>3</th>\n",
       "      <td>2621578336</td>\n",
       "      <td>NaN</td>\n",
       "      <td>NaN</td>\n",
       "      <td>NaN</td>\n",
       "      <td>NaN</td>\n",
       "    </tr>\n",
       "    <tr>\n",
       "      <th>4</th>\n",
       "      <td>855842686</td>\n",
       "      <td>2406118796 3550897984 294255260 1125817077 109...</td>\n",
       "      <td>2671721559 1761448345 2356975806 2666669465 10...</td>\n",
       "      <td>1518670705 880919237 2326414227 2673818347 332...</td>\n",
       "      <td>3500235232</td>\n",
       "    </tr>\n",
       "  </tbody>\n",
       "</table>\n",
       "</div>"
      ],
      "text/plain": [
       "        event                                                yes  \\\n",
       "0  1159822043  1975964455 252302513 4226086795 3805886383 142...   \n",
       "1   686467261  2394228942 2686116898 1056558062 3792942231 41...   \n",
       "2  1186208412                                                NaN   \n",
       "3  2621578336                                                NaN   \n",
       "4   855842686  2406118796 3550897984 294255260 1125817077 109...   \n",
       "\n",
       "                                               maybe  \\\n",
       "0  2733420590 517546982 1350834692 532087573 5831...   \n",
       "1  1498184352 645689144 3770076778 331335845 4239...   \n",
       "2                              3320380166 3810793697   \n",
       "3                                                NaN   \n",
       "4  2671721559 1761448345 2356975806 2666669465 10...   \n",
       "\n",
       "                                             invited                     no  \n",
       "0  1723091036 3795873583 4109144917 3560622906 31...  3575574655 1077296663  \n",
       "1  1788073374 733302094 1830571649 676508092 7081...                    NaN  \n",
       "2                               1379121209 440668682  1728988561 2950720854  \n",
       "3                                                NaN                    NaN  \n",
       "4  1518670705 880919237 2326414227 2673818347 332...             3500235232  "
      ]
     },
     "execution_count": 3,
     "metadata": {},
     "output_type": "execute_result"
    }
   ],
   "source": [
    "attendee.head()"
   ]
  },
  {
   "cell_type": "code",
   "execution_count": 4,
   "id": "09d09d87",
   "metadata": {
    "execution": {
     "iopub.execute_input": "2024-01-04T13:52:55.993784Z",
     "iopub.status.busy": "2024-01-04T13:52:55.993347Z",
     "iopub.status.idle": "2024-01-04T13:52:56.010847Z",
     "shell.execute_reply": "2024-01-04T13:52:56.009560Z"
    },
    "papermill": {
     "duration": 0.030014,
     "end_time": "2024-01-04T13:52:56.013559",
     "exception": false,
     "start_time": "2024-01-04T13:52:55.983545",
     "status": "completed"
    },
    "tags": []
   },
   "outputs": [
    {
     "data": {
      "text/html": [
       "<div>\n",
       "<style scoped>\n",
       "    .dataframe tbody tr th:only-of-type {\n",
       "        vertical-align: middle;\n",
       "    }\n",
       "\n",
       "    .dataframe tbody tr th {\n",
       "        vertical-align: top;\n",
       "    }\n",
       "\n",
       "    .dataframe thead th {\n",
       "        text-align: right;\n",
       "    }\n",
       "</style>\n",
       "<table border=\"1\" class=\"dataframe\">\n",
       "  <thead>\n",
       "    <tr style=\"text-align: right;\">\n",
       "      <th></th>\n",
       "      <th>event_id</th>\n",
       "      <th>yes</th>\n",
       "      <th>maybe</th>\n",
       "      <th>invited</th>\n",
       "      <th>no</th>\n",
       "    </tr>\n",
       "  </thead>\n",
       "  <tbody>\n",
       "    <tr>\n",
       "      <th>0</th>\n",
       "      <td>1159822043</td>\n",
       "      <td>1975964455 252302513 4226086795 3805886383 142...</td>\n",
       "      <td>2733420590 517546982 1350834692 532087573 5831...</td>\n",
       "      <td>1723091036 3795873583 4109144917 3560622906 31...</td>\n",
       "      <td>3575574655 1077296663</td>\n",
       "    </tr>\n",
       "    <tr>\n",
       "      <th>1</th>\n",
       "      <td>686467261</td>\n",
       "      <td>2394228942 2686116898 1056558062 3792942231 41...</td>\n",
       "      <td>1498184352 645689144 3770076778 331335845 4239...</td>\n",
       "      <td>1788073374 733302094 1830571649 676508092 7081...</td>\n",
       "      <td>NaN</td>\n",
       "    </tr>\n",
       "    <tr>\n",
       "      <th>2</th>\n",
       "      <td>1186208412</td>\n",
       "      <td>NaN</td>\n",
       "      <td>3320380166 3810793697</td>\n",
       "      <td>1379121209 440668682</td>\n",
       "      <td>1728988561 2950720854</td>\n",
       "    </tr>\n",
       "    <tr>\n",
       "      <th>3</th>\n",
       "      <td>2621578336</td>\n",
       "      <td>NaN</td>\n",
       "      <td>NaN</td>\n",
       "      <td>NaN</td>\n",
       "      <td>NaN</td>\n",
       "    </tr>\n",
       "    <tr>\n",
       "      <th>4</th>\n",
       "      <td>855842686</td>\n",
       "      <td>2406118796 3550897984 294255260 1125817077 109...</td>\n",
       "      <td>2671721559 1761448345 2356975806 2666669465 10...</td>\n",
       "      <td>1518670705 880919237 2326414227 2673818347 332...</td>\n",
       "      <td>3500235232</td>\n",
       "    </tr>\n",
       "  </tbody>\n",
       "</table>\n",
       "</div>"
      ],
      "text/plain": [
       "     event_id                                                yes  \\\n",
       "0  1159822043  1975964455 252302513 4226086795 3805886383 142...   \n",
       "1   686467261  2394228942 2686116898 1056558062 3792942231 41...   \n",
       "2  1186208412                                                NaN   \n",
       "3  2621578336                                                NaN   \n",
       "4   855842686  2406118796 3550897984 294255260 1125817077 109...   \n",
       "\n",
       "                                               maybe  \\\n",
       "0  2733420590 517546982 1350834692 532087573 5831...   \n",
       "1  1498184352 645689144 3770076778 331335845 4239...   \n",
       "2                              3320380166 3810793697   \n",
       "3                                                NaN   \n",
       "4  2671721559 1761448345 2356975806 2666669465 10...   \n",
       "\n",
       "                                             invited                     no  \n",
       "0  1723091036 3795873583 4109144917 3560622906 31...  3575574655 1077296663  \n",
       "1  1788073374 733302094 1830571649 676508092 7081...                    NaN  \n",
       "2                               1379121209 440668682  1728988561 2950720854  \n",
       "3                                                NaN                    NaN  \n",
       "4  1518670705 880919237 2326414227 2673818347 332...             3500235232  "
      ]
     },
     "execution_count": 4,
     "metadata": {},
     "output_type": "execute_result"
    }
   ],
   "source": [
    "attendee.rename(columns={'event': 'event_id'}, inplace=True)\n",
    "attendee.head()"
   ]
  },
  {
   "cell_type": "code",
   "execution_count": 5,
   "id": "67a3c3b1",
   "metadata": {
    "execution": {
     "iopub.execute_input": "2024-01-04T13:52:56.032478Z",
     "iopub.status.busy": "2024-01-04T13:52:56.032040Z",
     "iopub.status.idle": "2024-01-04T13:52:56.058847Z",
     "shell.execute_reply": "2024-01-04T13:52:56.057621Z"
    },
    "papermill": {
     "duration": 0.039333,
     "end_time": "2024-01-04T13:52:56.061401",
     "exception": false,
     "start_time": "2024-01-04T13:52:56.022068",
     "status": "completed"
    },
    "tags": []
   },
   "outputs": [
    {
     "data": {
      "text/html": [
       "<div>\n",
       "<style scoped>\n",
       "    .dataframe tbody tr th:only-of-type {\n",
       "        vertical-align: middle;\n",
       "    }\n",
       "\n",
       "    .dataframe tbody tr th {\n",
       "        vertical-align: top;\n",
       "    }\n",
       "\n",
       "    .dataframe thead th {\n",
       "        text-align: right;\n",
       "    }\n",
       "</style>\n",
       "<table border=\"1\" class=\"dataframe\">\n",
       "  <thead>\n",
       "    <tr style=\"text-align: right;\">\n",
       "      <th></th>\n",
       "      <th>event_id</th>\n",
       "      <th>user_id</th>\n",
       "      <th>start_time</th>\n",
       "      <th>city</th>\n",
       "      <th>state</th>\n",
       "      <th>zip</th>\n",
       "      <th>country</th>\n",
       "      <th>lat</th>\n",
       "      <th>lng</th>\n",
       "      <th>c_1</th>\n",
       "      <th>...</th>\n",
       "      <th>c_92</th>\n",
       "      <th>c_93</th>\n",
       "      <th>c_94</th>\n",
       "      <th>c_95</th>\n",
       "      <th>c_96</th>\n",
       "      <th>c_97</th>\n",
       "      <th>c_98</th>\n",
       "      <th>c_99</th>\n",
       "      <th>c_100</th>\n",
       "      <th>c_other</th>\n",
       "    </tr>\n",
       "  </thead>\n",
       "  <tbody>\n",
       "    <tr>\n",
       "      <th>0</th>\n",
       "      <td>684921758</td>\n",
       "      <td>3647864012</td>\n",
       "      <td>2012-10-31T00:00:00.001Z</td>\n",
       "      <td>NaN</td>\n",
       "      <td>NaN</td>\n",
       "      <td>NaN</td>\n",
       "      <td>NaN</td>\n",
       "      <td>NaN</td>\n",
       "      <td>NaN</td>\n",
       "      <td>2</td>\n",
       "      <td>...</td>\n",
       "      <td>0</td>\n",
       "      <td>1</td>\n",
       "      <td>0</td>\n",
       "      <td>0</td>\n",
       "      <td>0</td>\n",
       "      <td>0</td>\n",
       "      <td>0</td>\n",
       "      <td>0</td>\n",
       "      <td>0</td>\n",
       "      <td>9</td>\n",
       "    </tr>\n",
       "    <tr>\n",
       "      <th>1</th>\n",
       "      <td>244999119</td>\n",
       "      <td>3476440521</td>\n",
       "      <td>2012-11-03T00:00:00.001Z</td>\n",
       "      <td>NaN</td>\n",
       "      <td>NaN</td>\n",
       "      <td>NaN</td>\n",
       "      <td>NaN</td>\n",
       "      <td>NaN</td>\n",
       "      <td>NaN</td>\n",
       "      <td>2</td>\n",
       "      <td>...</td>\n",
       "      <td>0</td>\n",
       "      <td>0</td>\n",
       "      <td>0</td>\n",
       "      <td>0</td>\n",
       "      <td>0</td>\n",
       "      <td>0</td>\n",
       "      <td>0</td>\n",
       "      <td>0</td>\n",
       "      <td>0</td>\n",
       "      <td>7</td>\n",
       "    </tr>\n",
       "    <tr>\n",
       "      <th>2</th>\n",
       "      <td>3928440935</td>\n",
       "      <td>517514445</td>\n",
       "      <td>2012-11-05T00:00:00.001Z</td>\n",
       "      <td>NaN</td>\n",
       "      <td>NaN</td>\n",
       "      <td>NaN</td>\n",
       "      <td>NaN</td>\n",
       "      <td>NaN</td>\n",
       "      <td>NaN</td>\n",
       "      <td>0</td>\n",
       "      <td>...</td>\n",
       "      <td>0</td>\n",
       "      <td>0</td>\n",
       "      <td>0</td>\n",
       "      <td>0</td>\n",
       "      <td>0</td>\n",
       "      <td>0</td>\n",
       "      <td>0</td>\n",
       "      <td>0</td>\n",
       "      <td>0</td>\n",
       "      <td>12</td>\n",
       "    </tr>\n",
       "    <tr>\n",
       "      <th>3</th>\n",
       "      <td>2582345152</td>\n",
       "      <td>781585781</td>\n",
       "      <td>2012-10-30T00:00:00.001Z</td>\n",
       "      <td>NaN</td>\n",
       "      <td>NaN</td>\n",
       "      <td>NaN</td>\n",
       "      <td>NaN</td>\n",
       "      <td>NaN</td>\n",
       "      <td>NaN</td>\n",
       "      <td>1</td>\n",
       "      <td>...</td>\n",
       "      <td>0</td>\n",
       "      <td>0</td>\n",
       "      <td>0</td>\n",
       "      <td>0</td>\n",
       "      <td>0</td>\n",
       "      <td>0</td>\n",
       "      <td>0</td>\n",
       "      <td>0</td>\n",
       "      <td>0</td>\n",
       "      <td>8</td>\n",
       "    </tr>\n",
       "    <tr>\n",
       "      <th>4</th>\n",
       "      <td>1051165850</td>\n",
       "      <td>1016098580</td>\n",
       "      <td>2012-09-27T00:00:00.001Z</td>\n",
       "      <td>NaN</td>\n",
       "      <td>NaN</td>\n",
       "      <td>NaN</td>\n",
       "      <td>NaN</td>\n",
       "      <td>NaN</td>\n",
       "      <td>NaN</td>\n",
       "      <td>1</td>\n",
       "      <td>...</td>\n",
       "      <td>0</td>\n",
       "      <td>0</td>\n",
       "      <td>0</td>\n",
       "      <td>0</td>\n",
       "      <td>0</td>\n",
       "      <td>0</td>\n",
       "      <td>0</td>\n",
       "      <td>0</td>\n",
       "      <td>0</td>\n",
       "      <td>9</td>\n",
       "    </tr>\n",
       "  </tbody>\n",
       "</table>\n",
       "<p>5 rows × 110 columns</p>\n",
       "</div>"
      ],
      "text/plain": [
       "     event_id     user_id                start_time city state  zip country  \\\n",
       "0   684921758  3647864012  2012-10-31T00:00:00.001Z  NaN   NaN  NaN     NaN   \n",
       "1   244999119  3476440521  2012-11-03T00:00:00.001Z  NaN   NaN  NaN     NaN   \n",
       "2  3928440935   517514445  2012-11-05T00:00:00.001Z  NaN   NaN  NaN     NaN   \n",
       "3  2582345152   781585781  2012-10-30T00:00:00.001Z  NaN   NaN  NaN     NaN   \n",
       "4  1051165850  1016098580  2012-09-27T00:00:00.001Z  NaN   NaN  NaN     NaN   \n",
       "\n",
       "   lat  lng  c_1  ...  c_92  c_93  c_94  c_95  c_96  c_97  c_98  c_99  c_100  \\\n",
       "0  NaN  NaN    2  ...     0     1     0     0     0     0     0     0      0   \n",
       "1  NaN  NaN    2  ...     0     0     0     0     0     0     0     0      0   \n",
       "2  NaN  NaN    0  ...     0     0     0     0     0     0     0     0      0   \n",
       "3  NaN  NaN    1  ...     0     0     0     0     0     0     0     0      0   \n",
       "4  NaN  NaN    1  ...     0     0     0     0     0     0     0     0      0   \n",
       "\n",
       "   c_other  \n",
       "0        9  \n",
       "1        7  \n",
       "2       12  \n",
       "3        8  \n",
       "4        9  \n",
       "\n",
       "[5 rows x 110 columns]"
      ]
     },
     "execution_count": 5,
     "metadata": {},
     "output_type": "execute_result"
    }
   ],
   "source": [
    "event.head()"
   ]
  },
  {
   "cell_type": "code",
   "execution_count": 6,
   "id": "19ebbd56",
   "metadata": {
    "execution": {
     "iopub.execute_input": "2024-01-04T13:52:56.081912Z",
     "iopub.status.busy": "2024-01-04T13:52:56.080785Z",
     "iopub.status.idle": "2024-01-04T13:52:56.093806Z",
     "shell.execute_reply": "2024-01-04T13:52:56.092527Z"
    },
    "papermill": {
     "duration": 0.026462,
     "end_time": "2024-01-04T13:52:56.096755",
     "exception": false,
     "start_time": "2024-01-04T13:52:56.070293",
     "status": "completed"
    },
    "tags": []
   },
   "outputs": [
    {
     "data": {
      "text/html": [
       "<div>\n",
       "<style scoped>\n",
       "    .dataframe tbody tr th:only-of-type {\n",
       "        vertical-align: middle;\n",
       "    }\n",
       "\n",
       "    .dataframe tbody tr th {\n",
       "        vertical-align: top;\n",
       "    }\n",
       "\n",
       "    .dataframe thead th {\n",
       "        text-align: right;\n",
       "    }\n",
       "</style>\n",
       "<table border=\"1\" class=\"dataframe\">\n",
       "  <thead>\n",
       "    <tr style=\"text-align: right;\">\n",
       "      <th></th>\n",
       "      <th>user</th>\n",
       "      <th>event</th>\n",
       "      <th>invited</th>\n",
       "      <th>timestamp</th>\n",
       "    </tr>\n",
       "  </thead>\n",
       "  <tbody>\n",
       "    <tr>\n",
       "      <th>0</th>\n",
       "      <td>1776192</td>\n",
       "      <td>2877501688</td>\n",
       "      <td>0</td>\n",
       "      <td>2012-11-30 11:39:01.230000+00:00</td>\n",
       "    </tr>\n",
       "    <tr>\n",
       "      <th>1</th>\n",
       "      <td>1776192</td>\n",
       "      <td>3025444328</td>\n",
       "      <td>0</td>\n",
       "      <td>2012-11-30 11:39:01.230000+00:00</td>\n",
       "    </tr>\n",
       "    <tr>\n",
       "      <th>2</th>\n",
       "      <td>1776192</td>\n",
       "      <td>4078218285</td>\n",
       "      <td>0</td>\n",
       "      <td>2012-11-30 11:39:01.230000+00:00</td>\n",
       "    </tr>\n",
       "    <tr>\n",
       "      <th>3</th>\n",
       "      <td>1776192</td>\n",
       "      <td>1024025121</td>\n",
       "      <td>0</td>\n",
       "      <td>2012-11-30 11:39:01.230000+00:00</td>\n",
       "    </tr>\n",
       "    <tr>\n",
       "      <th>4</th>\n",
       "      <td>1776192</td>\n",
       "      <td>2972428928</td>\n",
       "      <td>0</td>\n",
       "      <td>2012-11-30 11:39:21.985000+00:00</td>\n",
       "    </tr>\n",
       "  </tbody>\n",
       "</table>\n",
       "</div>"
      ],
      "text/plain": [
       "      user       event  invited                         timestamp\n",
       "0  1776192  2877501688        0  2012-11-30 11:39:01.230000+00:00\n",
       "1  1776192  3025444328        0  2012-11-30 11:39:01.230000+00:00\n",
       "2  1776192  4078218285        0  2012-11-30 11:39:01.230000+00:00\n",
       "3  1776192  1024025121        0  2012-11-30 11:39:01.230000+00:00\n",
       "4  1776192  2972428928        0  2012-11-30 11:39:21.985000+00:00"
      ]
     },
     "execution_count": 6,
     "metadata": {},
     "output_type": "execute_result"
    }
   ],
   "source": [
    "test.head()"
   ]
  },
  {
   "cell_type": "code",
   "execution_count": 7,
   "id": "d07713b1",
   "metadata": {
    "execution": {
     "iopub.execute_input": "2024-01-04T13:52:56.118268Z",
     "iopub.status.busy": "2024-01-04T13:52:56.116643Z",
     "iopub.status.idle": "2024-01-04T13:52:56.130212Z",
     "shell.execute_reply": "2024-01-04T13:52:56.129033Z"
    },
    "papermill": {
     "duration": 0.026705,
     "end_time": "2024-01-04T13:52:56.132695",
     "exception": false,
     "start_time": "2024-01-04T13:52:56.105990",
     "status": "completed"
    },
    "tags": []
   },
   "outputs": [
    {
     "data": {
      "text/html": [
       "<div>\n",
       "<style scoped>\n",
       "    .dataframe tbody tr th:only-of-type {\n",
       "        vertical-align: middle;\n",
       "    }\n",
       "\n",
       "    .dataframe tbody tr th {\n",
       "        vertical-align: top;\n",
       "    }\n",
       "\n",
       "    .dataframe thead th {\n",
       "        text-align: right;\n",
       "    }\n",
       "</style>\n",
       "<table border=\"1\" class=\"dataframe\">\n",
       "  <thead>\n",
       "    <tr style=\"text-align: right;\">\n",
       "      <th></th>\n",
       "      <th>user</th>\n",
       "      <th>event</th>\n",
       "      <th>invited</th>\n",
       "      <th>timestamp</th>\n",
       "      <th>interested</th>\n",
       "      <th>not_interested</th>\n",
       "    </tr>\n",
       "  </thead>\n",
       "  <tbody>\n",
       "    <tr>\n",
       "      <th>0</th>\n",
       "      <td>3044012</td>\n",
       "      <td>1918771225</td>\n",
       "      <td>0</td>\n",
       "      <td>2012-10-02 15:53:05.754000+00:00</td>\n",
       "      <td>0</td>\n",
       "      <td>0</td>\n",
       "    </tr>\n",
       "    <tr>\n",
       "      <th>1</th>\n",
       "      <td>3044012</td>\n",
       "      <td>1502284248</td>\n",
       "      <td>0</td>\n",
       "      <td>2012-10-02 15:53:05.754000+00:00</td>\n",
       "      <td>0</td>\n",
       "      <td>0</td>\n",
       "    </tr>\n",
       "    <tr>\n",
       "      <th>2</th>\n",
       "      <td>3044012</td>\n",
       "      <td>2529072432</td>\n",
       "      <td>0</td>\n",
       "      <td>2012-10-02 15:53:05.754000+00:00</td>\n",
       "      <td>1</td>\n",
       "      <td>0</td>\n",
       "    </tr>\n",
       "    <tr>\n",
       "      <th>3</th>\n",
       "      <td>3044012</td>\n",
       "      <td>3072478280</td>\n",
       "      <td>0</td>\n",
       "      <td>2012-10-02 15:53:05.754000+00:00</td>\n",
       "      <td>0</td>\n",
       "      <td>0</td>\n",
       "    </tr>\n",
       "    <tr>\n",
       "      <th>4</th>\n",
       "      <td>3044012</td>\n",
       "      <td>1390707377</td>\n",
       "      <td>0</td>\n",
       "      <td>2012-10-02 15:53:05.754000+00:00</td>\n",
       "      <td>0</td>\n",
       "      <td>0</td>\n",
       "    </tr>\n",
       "  </tbody>\n",
       "</table>\n",
       "</div>"
      ],
      "text/plain": [
       "      user       event  invited                         timestamp  interested  \\\n",
       "0  3044012  1918771225        0  2012-10-02 15:53:05.754000+00:00           0   \n",
       "1  3044012  1502284248        0  2012-10-02 15:53:05.754000+00:00           0   \n",
       "2  3044012  2529072432        0  2012-10-02 15:53:05.754000+00:00           1   \n",
       "3  3044012  3072478280        0  2012-10-02 15:53:05.754000+00:00           0   \n",
       "4  3044012  1390707377        0  2012-10-02 15:53:05.754000+00:00           0   \n",
       "\n",
       "   not_interested  \n",
       "0               0  \n",
       "1               0  \n",
       "2               0  \n",
       "3               0  \n",
       "4               0  "
      ]
     },
     "execution_count": 7,
     "metadata": {},
     "output_type": "execute_result"
    }
   ],
   "source": [
    "train.head()"
   ]
  },
  {
   "cell_type": "code",
   "execution_count": 8,
   "id": "19246f33",
   "metadata": {
    "execution": {
     "iopub.execute_input": "2024-01-04T13:52:56.153727Z",
     "iopub.status.busy": "2024-01-04T13:52:56.152750Z",
     "iopub.status.idle": "2024-01-04T13:52:56.163985Z",
     "shell.execute_reply": "2024-01-04T13:52:56.162866Z"
    },
    "papermill": {
     "duration": 0.024335,
     "end_time": "2024-01-04T13:52:56.166233",
     "exception": false,
     "start_time": "2024-01-04T13:52:56.141898",
     "status": "completed"
    },
    "tags": []
   },
   "outputs": [
    {
     "data": {
      "text/html": [
       "<div>\n",
       "<style scoped>\n",
       "    .dataframe tbody tr th:only-of-type {\n",
       "        vertical-align: middle;\n",
       "    }\n",
       "\n",
       "    .dataframe tbody tr th {\n",
       "        vertical-align: top;\n",
       "    }\n",
       "\n",
       "    .dataframe thead th {\n",
       "        text-align: right;\n",
       "    }\n",
       "</style>\n",
       "<table border=\"1\" class=\"dataframe\">\n",
       "  <thead>\n",
       "    <tr style=\"text-align: right;\">\n",
       "      <th></th>\n",
       "      <th>user</th>\n",
       "      <th>friends</th>\n",
       "    </tr>\n",
       "  </thead>\n",
       "  <tbody>\n",
       "    <tr>\n",
       "      <th>0</th>\n",
       "      <td>3197468391</td>\n",
       "      <td>1346449342 3873244116 4226080662 1222907620 54...</td>\n",
       "    </tr>\n",
       "    <tr>\n",
       "      <th>1</th>\n",
       "      <td>3537982273</td>\n",
       "      <td>1491560444 395798035 2036380346 899375619 3534...</td>\n",
       "    </tr>\n",
       "    <tr>\n",
       "      <th>2</th>\n",
       "      <td>823183725</td>\n",
       "      <td>1484954627 1950387873 1652977611 4185960823 42...</td>\n",
       "    </tr>\n",
       "    <tr>\n",
       "      <th>3</th>\n",
       "      <td>1872223848</td>\n",
       "      <td>83361640 723814682 557944478 1724049724 253059...</td>\n",
       "    </tr>\n",
       "    <tr>\n",
       "      <th>4</th>\n",
       "      <td>3429017717</td>\n",
       "      <td>4253303705 2130310957 1838389374 3928735761 71...</td>\n",
       "    </tr>\n",
       "  </tbody>\n",
       "</table>\n",
       "</div>"
      ],
      "text/plain": [
       "         user                                            friends\n",
       "0  3197468391  1346449342 3873244116 4226080662 1222907620 54...\n",
       "1  3537982273  1491560444 395798035 2036380346 899375619 3534...\n",
       "2   823183725  1484954627 1950387873 1652977611 4185960823 42...\n",
       "3  1872223848  83361640 723814682 557944478 1724049724 253059...\n",
       "4  3429017717  4253303705 2130310957 1838389374 3928735761 71..."
      ]
     },
     "execution_count": 8,
     "metadata": {},
     "output_type": "execute_result"
    }
   ],
   "source": [
    "friend.head()"
   ]
  },
  {
   "cell_type": "code",
   "execution_count": 9,
   "id": "96f08611",
   "metadata": {
    "execution": {
     "iopub.execute_input": "2024-01-04T13:52:56.187145Z",
     "iopub.status.busy": "2024-01-04T13:52:56.186418Z",
     "iopub.status.idle": "2024-01-04T13:52:56.200774Z",
     "shell.execute_reply": "2024-01-04T13:52:56.199603Z"
    },
    "papermill": {
     "duration": 0.027949,
     "end_time": "2024-01-04T13:52:56.203285",
     "exception": false,
     "start_time": "2024-01-04T13:52:56.175336",
     "status": "completed"
    },
    "tags": []
   },
   "outputs": [
    {
     "data": {
      "text/html": [
       "<div>\n",
       "<style scoped>\n",
       "    .dataframe tbody tr th:only-of-type {\n",
       "        vertical-align: middle;\n",
       "    }\n",
       "\n",
       "    .dataframe tbody tr th {\n",
       "        vertical-align: top;\n",
       "    }\n",
       "\n",
       "    .dataframe thead th {\n",
       "        text-align: right;\n",
       "    }\n",
       "</style>\n",
       "<table border=\"1\" class=\"dataframe\">\n",
       "  <thead>\n",
       "    <tr style=\"text-align: right;\">\n",
       "      <th></th>\n",
       "      <th>user_id</th>\n",
       "      <th>locale</th>\n",
       "      <th>birthyear</th>\n",
       "      <th>gender</th>\n",
       "      <th>joinedAt</th>\n",
       "      <th>location</th>\n",
       "      <th>timezone</th>\n",
       "    </tr>\n",
       "  </thead>\n",
       "  <tbody>\n",
       "    <tr>\n",
       "      <th>0</th>\n",
       "      <td>3197468391</td>\n",
       "      <td>id_ID</td>\n",
       "      <td>1993</td>\n",
       "      <td>male</td>\n",
       "      <td>2012-10-02T06:40:55.524Z</td>\n",
       "      <td>Medan  Indonesia</td>\n",
       "      <td>480.0</td>\n",
       "    </tr>\n",
       "    <tr>\n",
       "      <th>1</th>\n",
       "      <td>3537982273</td>\n",
       "      <td>id_ID</td>\n",
       "      <td>1992</td>\n",
       "      <td>male</td>\n",
       "      <td>2012-09-29T18:03:12.111Z</td>\n",
       "      <td>Medan  Indonesia</td>\n",
       "      <td>420.0</td>\n",
       "    </tr>\n",
       "    <tr>\n",
       "      <th>2</th>\n",
       "      <td>823183725</td>\n",
       "      <td>en_US</td>\n",
       "      <td>1975</td>\n",
       "      <td>male</td>\n",
       "      <td>2012-10-06T03:14:07.149Z</td>\n",
       "      <td>Stratford  Ontario</td>\n",
       "      <td>-240.0</td>\n",
       "    </tr>\n",
       "    <tr>\n",
       "      <th>3</th>\n",
       "      <td>1872223848</td>\n",
       "      <td>en_US</td>\n",
       "      <td>1991</td>\n",
       "      <td>female</td>\n",
       "      <td>2012-11-04T08:59:43.783Z</td>\n",
       "      <td>Tehran  Iran</td>\n",
       "      <td>210.0</td>\n",
       "    </tr>\n",
       "    <tr>\n",
       "      <th>4</th>\n",
       "      <td>3429017717</td>\n",
       "      <td>id_ID</td>\n",
       "      <td>1995</td>\n",
       "      <td>female</td>\n",
       "      <td>2012-09-10T16:06:53.132Z</td>\n",
       "      <td>NaN</td>\n",
       "      <td>420.0</td>\n",
       "    </tr>\n",
       "  </tbody>\n",
       "</table>\n",
       "</div>"
      ],
      "text/plain": [
       "      user_id locale birthyear  gender                  joinedAt  \\\n",
       "0  3197468391  id_ID      1993    male  2012-10-02T06:40:55.524Z   \n",
       "1  3537982273  id_ID      1992    male  2012-09-29T18:03:12.111Z   \n",
       "2   823183725  en_US      1975    male  2012-10-06T03:14:07.149Z   \n",
       "3  1872223848  en_US      1991  female  2012-11-04T08:59:43.783Z   \n",
       "4  3429017717  id_ID      1995  female  2012-09-10T16:06:53.132Z   \n",
       "\n",
       "             location  timezone  \n",
       "0    Medan  Indonesia     480.0  \n",
       "1    Medan  Indonesia     420.0  \n",
       "2  Stratford  Ontario    -240.0  \n",
       "3        Tehran  Iran     210.0  \n",
       "4                 NaN     420.0  "
      ]
     },
     "execution_count": 9,
     "metadata": {},
     "output_type": "execute_result"
    }
   ],
   "source": [
    "user.head()"
   ]
  },
  {
   "cell_type": "code",
   "execution_count": 10,
   "id": "71c4beb3",
   "metadata": {
    "execution": {
     "iopub.execute_input": "2024-01-04T13:52:56.224585Z",
     "iopub.status.busy": "2024-01-04T13:52:56.223728Z",
     "iopub.status.idle": "2024-01-04T13:52:56.247731Z",
     "shell.execute_reply": "2024-01-04T13:52:56.246537Z"
    },
    "papermill": {
     "duration": 0.037764,
     "end_time": "2024-01-04T13:52:56.250423",
     "exception": false,
     "start_time": "2024-01-04T13:52:56.212659",
     "status": "completed"
    },
    "tags": []
   },
   "outputs": [
    {
     "data": {
      "text/plain": [
       "event_id       0\n",
       "yes         1984\n",
       "maybe       3167\n",
       "invited     1822\n",
       "no          6659\n",
       "dtype: int64"
      ]
     },
     "execution_count": 10,
     "metadata": {},
     "output_type": "execute_result"
    }
   ],
   "source": [
    "attendee.isnull().sum()"
   ]
  },
  {
   "cell_type": "code",
   "execution_count": 11,
   "id": "df1c2fec",
   "metadata": {
    "execution": {
     "iopub.execute_input": "2024-01-04T13:52:56.272910Z",
     "iopub.status.busy": "2024-01-04T13:52:56.272043Z",
     "iopub.status.idle": "2024-01-04T13:52:56.278954Z",
     "shell.execute_reply": "2024-01-04T13:52:56.277883Z"
    },
    "papermill": {
     "duration": 0.020872,
     "end_time": "2024-01-04T13:52:56.281200",
     "exception": false,
     "start_time": "2024-01-04T13:52:56.260328",
     "status": "completed"
    },
    "tags": []
   },
   "outputs": [
    {
     "data": {
      "text/plain": [
       "(24144, 5)"
      ]
     },
     "execution_count": 11,
     "metadata": {},
     "output_type": "execute_result"
    }
   ],
   "source": [
    "attendee.shape"
   ]
  },
  {
   "cell_type": "code",
   "execution_count": 12,
   "id": "95aa4ff6",
   "metadata": {
    "execution": {
     "iopub.execute_input": "2024-01-04T13:52:56.302966Z",
     "iopub.status.busy": "2024-01-04T13:52:56.302470Z",
     "iopub.status.idle": "2024-01-04T13:52:56.328039Z",
     "shell.execute_reply": "2024-01-04T13:52:56.326834Z"
    },
    "papermill": {
     "duration": 0.039944,
     "end_time": "2024-01-04T13:52:56.330912",
     "exception": false,
     "start_time": "2024-01-04T13:52:56.290968",
     "status": "completed"
    },
    "tags": []
   },
   "outputs": [],
   "source": [
    "attendee.dropna(inplace=True)\n",
    "attendee.reset_index(drop=True, inplace=True)"
   ]
  },
  {
   "cell_type": "code",
   "execution_count": 13,
   "id": "9514eb0b",
   "metadata": {
    "execution": {
     "iopub.execute_input": "2024-01-04T13:52:56.353511Z",
     "iopub.status.busy": "2024-01-04T13:52:56.352625Z",
     "iopub.status.idle": "2024-01-04T13:52:56.360164Z",
     "shell.execute_reply": "2024-01-04T13:52:56.359264Z"
    },
    "papermill": {
     "duration": 0.02085,
     "end_time": "2024-01-04T13:52:56.362149",
     "exception": false,
     "start_time": "2024-01-04T13:52:56.341299",
     "status": "completed"
    },
    "tags": []
   },
   "outputs": [
    {
     "data": {
      "text/plain": [
       "(16789, 5)"
      ]
     },
     "execution_count": 13,
     "metadata": {},
     "output_type": "execute_result"
    }
   ],
   "source": [
    "attendee.shape"
   ]
  },
  {
   "cell_type": "code",
   "execution_count": 14,
   "id": "58f6362a",
   "metadata": {
    "execution": {
     "iopub.execute_input": "2024-01-04T13:52:56.384563Z",
     "iopub.status.busy": "2024-01-04T13:52:56.383794Z",
     "iopub.status.idle": "2024-01-04T13:52:56.678007Z",
     "shell.execute_reply": "2024-01-04T13:52:56.676811Z"
    },
    "papermill": {
     "duration": 0.308643,
     "end_time": "2024-01-04T13:52:56.680655",
     "exception": false,
     "start_time": "2024-01-04T13:52:56.372012",
     "status": "completed"
    },
    "tags": []
   },
   "outputs": [
    {
     "data": {
      "text/plain": [
       "0"
      ]
     },
     "execution_count": 14,
     "metadata": {},
     "output_type": "execute_result"
    }
   ],
   "source": [
    "attendee.duplicated().sum()"
   ]
  },
  {
   "cell_type": "code",
   "execution_count": 15,
   "id": "538659f0",
   "metadata": {
    "execution": {
     "iopub.execute_input": "2024-01-04T13:52:56.703263Z",
     "iopub.status.busy": "2024-01-04T13:52:56.702720Z",
     "iopub.status.idle": "2024-01-04T13:52:57.656651Z",
     "shell.execute_reply": "2024-01-04T13:52:57.655568Z"
    },
    "papermill": {
     "duration": 0.968081,
     "end_time": "2024-01-04T13:52:57.659117",
     "exception": false,
     "start_time": "2024-01-04T13:52:56.691036",
     "status": "completed"
    },
    "tags": []
   },
   "outputs": [
    {
     "data": {
      "text/plain": [
       "event_id            0\n",
       "user_id             0\n",
       "start_time          0\n",
       "city          1557125\n",
       "state         1889723\n",
       "               ...   \n",
       "c_97                0\n",
       "c_98                0\n",
       "c_99                0\n",
       "c_100               0\n",
       "c_other             0\n",
       "Length: 110, dtype: int64"
      ]
     },
     "execution_count": 15,
     "metadata": {},
     "output_type": "execute_result"
    }
   ],
   "source": [
    "event.isnull().sum()"
   ]
  },
  {
   "cell_type": "code",
   "execution_count": 16,
   "id": "f6ff8135",
   "metadata": {
    "execution": {
     "iopub.execute_input": "2024-01-04T13:52:57.681656Z",
     "iopub.status.busy": "2024-01-04T13:52:57.681171Z",
     "iopub.status.idle": "2024-01-04T13:53:16.982144Z",
     "shell.execute_reply": "2024-01-04T13:53:16.981088Z"
    },
    "papermill": {
     "duration": 19.315105,
     "end_time": "2024-01-04T13:53:16.984518",
     "exception": false,
     "start_time": "2024-01-04T13:52:57.669413",
     "status": "completed"
    },
    "tags": []
   },
   "outputs": [
    {
     "data": {
      "text/plain": [
       "0"
      ]
     },
     "execution_count": 16,
     "metadata": {},
     "output_type": "execute_result"
    }
   ],
   "source": [
    "event.duplicated().sum()"
   ]
  },
  {
   "cell_type": "code",
   "execution_count": 17,
   "id": "e7390c48",
   "metadata": {
    "execution": {
     "iopub.execute_input": "2024-01-04T13:53:17.007375Z",
     "iopub.status.busy": "2024-01-04T13:53:17.006916Z",
     "iopub.status.idle": "2024-01-04T13:53:18.397079Z",
     "shell.execute_reply": "2024-01-04T13:53:18.396029Z"
    },
    "papermill": {
     "duration": 1.404841,
     "end_time": "2024-01-04T13:53:18.399775",
     "exception": false,
     "start_time": "2024-01-04T13:53:16.994934",
     "status": "completed"
    },
    "tags": []
   },
   "outputs": [],
   "source": [
    "event.dropna(inplace=True)\n",
    "event.reset_index(drop=True, inplace=True)"
   ]
  },
  {
   "cell_type": "code",
   "execution_count": 18,
   "id": "467c9cf6",
   "metadata": {
    "execution": {
     "iopub.execute_input": "2024-01-04T13:53:18.423006Z",
     "iopub.status.busy": "2024-01-04T13:53:18.421873Z",
     "iopub.status.idle": "2024-01-04T13:53:18.431233Z",
     "shell.execute_reply": "2024-01-04T13:53:18.430494Z"
    },
    "papermill": {
     "duration": 0.023138,
     "end_time": "2024-01-04T13:53:18.433289",
     "exception": false,
     "start_time": "2024-01-04T13:53:18.410151",
     "status": "completed"
    },
    "tags": []
   },
   "outputs": [
    {
     "data": {
      "text/plain": [
       "user         0\n",
       "event        0\n",
       "invited      0\n",
       "timestamp    0\n",
       "dtype: int64"
      ]
     },
     "execution_count": 18,
     "metadata": {},
     "output_type": "execute_result"
    }
   ],
   "source": [
    "test.isnull().sum()"
   ]
  },
  {
   "cell_type": "code",
   "execution_count": 19,
   "id": "495c5491",
   "metadata": {
    "execution": {
     "iopub.execute_input": "2024-01-04T13:53:18.456261Z",
     "iopub.status.busy": "2024-01-04T13:53:18.455774Z",
     "iopub.status.idle": "2024-01-04T13:53:18.466655Z",
     "shell.execute_reply": "2024-01-04T13:53:18.465595Z"
    },
    "papermill": {
     "duration": 0.025201,
     "end_time": "2024-01-04T13:53:18.468855",
     "exception": false,
     "start_time": "2024-01-04T13:53:18.443654",
     "status": "completed"
    },
    "tags": []
   },
   "outputs": [
    {
     "data": {
      "text/plain": [
       "0"
      ]
     },
     "execution_count": 19,
     "metadata": {},
     "output_type": "execute_result"
    }
   ],
   "source": [
    "test.duplicated().sum()"
   ]
  },
  {
   "cell_type": "code",
   "execution_count": 20,
   "id": "3d8e1c77",
   "metadata": {
    "execution": {
     "iopub.execute_input": "2024-01-04T13:53:18.491990Z",
     "iopub.status.busy": "2024-01-04T13:53:18.491493Z",
     "iopub.status.idle": "2024-01-04T13:53:18.502202Z",
     "shell.execute_reply": "2024-01-04T13:53:18.501120Z"
    },
    "papermill": {
     "duration": 0.024751,
     "end_time": "2024-01-04T13:53:18.504410",
     "exception": false,
     "start_time": "2024-01-04T13:53:18.479659",
     "status": "completed"
    },
    "tags": []
   },
   "outputs": [
    {
     "data": {
      "text/plain": [
       "user              0\n",
       "event             0\n",
       "invited           0\n",
       "timestamp         0\n",
       "interested        0\n",
       "not_interested    0\n",
       "dtype: int64"
      ]
     },
     "execution_count": 20,
     "metadata": {},
     "output_type": "execute_result"
    }
   ],
   "source": [
    "train.isnull().sum()"
   ]
  },
  {
   "cell_type": "code",
   "execution_count": 21,
   "id": "2e9cbbce",
   "metadata": {
    "execution": {
     "iopub.execute_input": "2024-01-04T13:53:18.527617Z",
     "iopub.status.busy": "2024-01-04T13:53:18.527163Z",
     "iopub.status.idle": "2024-01-04T13:53:18.544906Z",
     "shell.execute_reply": "2024-01-04T13:53:18.543767Z"
    },
    "papermill": {
     "duration": 0.03205,
     "end_time": "2024-01-04T13:53:18.547089",
     "exception": false,
     "start_time": "2024-01-04T13:53:18.515039",
     "status": "completed"
    },
    "tags": []
   },
   "outputs": [
    {
     "data": {
      "text/plain": [
       "user         0\n",
       "friends    139\n",
       "dtype: int64"
      ]
     },
     "execution_count": 21,
     "metadata": {},
     "output_type": "execute_result"
    }
   ],
   "source": [
    "friend.isnull().sum()"
   ]
  },
  {
   "cell_type": "code",
   "execution_count": 22,
   "id": "9b92c27d",
   "metadata": {
    "execution": {
     "iopub.execute_input": "2024-01-04T13:53:18.570765Z",
     "iopub.status.busy": "2024-01-04T13:53:18.569688Z",
     "iopub.status.idle": "2024-01-04T13:53:18.807128Z",
     "shell.execute_reply": "2024-01-04T13:53:18.805926Z"
    },
    "papermill": {
     "duration": 0.252161,
     "end_time": "2024-01-04T13:53:18.809924",
     "exception": false,
     "start_time": "2024-01-04T13:53:18.557763",
     "status": "completed"
    },
    "tags": []
   },
   "outputs": [
    {
     "data": {
      "text/plain": [
       "0"
      ]
     },
     "execution_count": 22,
     "metadata": {},
     "output_type": "execute_result"
    }
   ],
   "source": [
    "friend.duplicated().sum()"
   ]
  },
  {
   "cell_type": "code",
   "execution_count": 23,
   "id": "cebe8c6f",
   "metadata": {
    "execution": {
     "iopub.execute_input": "2024-01-04T13:53:18.834057Z",
     "iopub.status.busy": "2024-01-04T13:53:18.832705Z",
     "iopub.status.idle": "2024-01-04T13:53:18.851698Z",
     "shell.execute_reply": "2024-01-04T13:53:18.850550Z"
    },
    "papermill": {
     "duration": 0.033453,
     "end_time": "2024-01-04T13:53:18.854160",
     "exception": false,
     "start_time": "2024-01-04T13:53:18.820707",
     "status": "completed"
    },
    "tags": []
   },
   "outputs": [
    {
     "data": {
      "text/plain": [
       "user_id         0\n",
       "locale          0\n",
       "birthyear    1492\n",
       "gender        109\n",
       "joinedAt       58\n",
       "location     5465\n",
       "timezone      436\n",
       "dtype: int64"
      ]
     },
     "execution_count": 23,
     "metadata": {},
     "output_type": "execute_result"
    }
   ],
   "source": [
    "user.isnull().sum()"
   ]
  },
  {
   "cell_type": "code",
   "execution_count": 24,
   "id": "db23a78f",
   "metadata": {
    "execution": {
     "iopub.execute_input": "2024-01-04T13:53:18.968423Z",
     "iopub.status.busy": "2024-01-04T13:53:18.967957Z",
     "iopub.status.idle": "2024-01-04T13:53:19.004811Z",
     "shell.execute_reply": "2024-01-04T13:53:19.003590Z"
    },
    "papermill": {
     "duration": 0.052227,
     "end_time": "2024-01-04T13:53:19.007413",
     "exception": false,
     "start_time": "2024-01-04T13:53:18.955186",
     "status": "completed"
    },
    "tags": []
   },
   "outputs": [
    {
     "data": {
      "text/plain": [
       "0"
      ]
     },
     "execution_count": 24,
     "metadata": {},
     "output_type": "execute_result"
    }
   ],
   "source": [
    "user.duplicated().sum()"
   ]
  },
  {
   "cell_type": "code",
   "execution_count": 25,
   "id": "094bd8b1",
   "metadata": {
    "execution": {
     "iopub.execute_input": "2024-01-04T13:53:19.031380Z",
     "iopub.status.busy": "2024-01-04T13:53:19.030917Z",
     "iopub.status.idle": "2024-01-04T13:53:19.050310Z",
     "shell.execute_reply": "2024-01-04T13:53:19.049163Z"
    },
    "papermill": {
     "duration": 0.034483,
     "end_time": "2024-01-04T13:53:19.052912",
     "exception": false,
     "start_time": "2024-01-04T13:53:19.018429",
     "status": "completed"
    },
    "tags": []
   },
   "outputs": [],
   "source": [
    "user.dropna(inplace=True)\n",
    "user.reset_index(drop=True, inplace=True)"
   ]
  },
  {
   "cell_type": "code",
   "execution_count": 26,
   "id": "d182f2ca",
   "metadata": {
    "execution": {
     "iopub.execute_input": "2024-01-04T13:53:19.076757Z",
     "iopub.status.busy": "2024-01-04T13:53:19.076332Z",
     "iopub.status.idle": "2024-01-04T13:53:19.083249Z",
     "shell.execute_reply": "2024-01-04T13:53:19.082090Z"
    },
    "papermill": {
     "duration": 0.021385,
     "end_time": "2024-01-04T13:53:19.085257",
     "exception": false,
     "start_time": "2024-01-04T13:53:19.063872",
     "status": "completed"
    },
    "tags": []
   },
   "outputs": [
    {
     "data": {
      "text/plain": [
       "Index(['event_id', 'user_id', 'start_time', 'city', 'state', 'zip', 'country',\n",
       "       'lat', 'lng', 'c_1',\n",
       "       ...\n",
       "       'c_92', 'c_93', 'c_94', 'c_95', 'c_96', 'c_97', 'c_98', 'c_99', 'c_100',\n",
       "       'c_other'],\n",
       "      dtype='object', length=110)"
      ]
     },
     "execution_count": 26,
     "metadata": {},
     "output_type": "execute_result"
    }
   ],
   "source": [
    "event.columns"
   ]
  },
  {
   "cell_type": "code",
   "execution_count": 27,
   "id": "f330c0d6",
   "metadata": {
    "execution": {
     "iopub.execute_input": "2024-01-04T13:53:19.109023Z",
     "iopub.status.busy": "2024-01-04T13:53:19.108491Z",
     "iopub.status.idle": "2024-01-04T13:53:19.161504Z",
     "shell.execute_reply": "2024-01-04T13:53:19.160374Z"
    },
    "papermill": {
     "duration": 0.067582,
     "end_time": "2024-01-04T13:53:19.163792",
     "exception": false,
     "start_time": "2024-01-04T13:53:19.096210",
     "status": "completed"
    },
    "tags": []
   },
   "outputs": [
    {
     "data": {
      "text/html": [
       "<div>\n",
       "<style scoped>\n",
       "    .dataframe tbody tr th:only-of-type {\n",
       "        vertical-align: middle;\n",
       "    }\n",
       "\n",
       "    .dataframe tbody tr th {\n",
       "        vertical-align: top;\n",
       "    }\n",
       "\n",
       "    .dataframe thead th {\n",
       "        text-align: right;\n",
       "    }\n",
       "</style>\n",
       "<table border=\"1\" class=\"dataframe\">\n",
       "  <thead>\n",
       "    <tr style=\"text-align: right;\">\n",
       "      <th></th>\n",
       "      <th>event_id</th>\n",
       "      <th>user_id</th>\n",
       "      <th>city</th>\n",
       "      <th>state</th>\n",
       "      <th>zip</th>\n",
       "      <th>country</th>\n",
       "    </tr>\n",
       "  </thead>\n",
       "  <tbody>\n",
       "    <tr>\n",
       "      <th>0</th>\n",
       "      <td>1924180022</td>\n",
       "      <td>1571299514</td>\n",
       "      <td>Palo Alto</td>\n",
       "      <td>CA</td>\n",
       "      <td>94304</td>\n",
       "      <td>United States</td>\n",
       "    </tr>\n",
       "    <tr>\n",
       "      <th>1</th>\n",
       "      <td>2654661184</td>\n",
       "      <td>1785633648</td>\n",
       "      <td>Palo Alto</td>\n",
       "      <td>CA</td>\n",
       "      <td>94304</td>\n",
       "      <td>United States</td>\n",
       "    </tr>\n",
       "    <tr>\n",
       "      <th>2</th>\n",
       "      <td>766157199</td>\n",
       "      <td>415464198</td>\n",
       "      <td>New York</td>\n",
       "      <td>NY</td>\n",
       "      <td>0212</td>\n",
       "      <td>United States</td>\n",
       "    </tr>\n",
       "    <tr>\n",
       "      <th>3</th>\n",
       "      <td>197942693</td>\n",
       "      <td>4272720232</td>\n",
       "      <td>Menlo Park</td>\n",
       "      <td>CA</td>\n",
       "      <td>94025</td>\n",
       "      <td>United States</td>\n",
       "    </tr>\n",
       "    <tr>\n",
       "      <th>4</th>\n",
       "      <td>3578194644</td>\n",
       "      <td>571508037</td>\n",
       "      <td>Mobile</td>\n",
       "      <td>AL</td>\n",
       "      <td>36602</td>\n",
       "      <td>United States</td>\n",
       "    </tr>\n",
       "  </tbody>\n",
       "</table>\n",
       "</div>"
      ],
      "text/plain": [
       "     event_id     user_id        city state    zip        country\n",
       "0  1924180022  1571299514   Palo Alto    CA  94304  United States\n",
       "1  2654661184  1785633648   Palo Alto    CA  94304  United States\n",
       "2   766157199   415464198    New York    NY   0212  United States\n",
       "3   197942693  4272720232  Menlo Park    CA  94025  United States\n",
       "4  3578194644   571508037      Mobile    AL  36602  United States"
      ]
     },
     "execution_count": 27,
     "metadata": {},
     "output_type": "execute_result"
    }
   ],
   "source": [
    "event=event[['event_id','user_id', 'city', 'state', 'zip', 'country']]\n",
    "event.head()"
   ]
  },
  {
   "cell_type": "code",
   "execution_count": 28,
   "id": "8751f48b",
   "metadata": {
    "execution": {
     "iopub.execute_input": "2024-01-04T13:53:19.189124Z",
     "iopub.status.busy": "2024-01-04T13:53:19.188599Z",
     "iopub.status.idle": "2024-01-04T13:53:19.275064Z",
     "shell.execute_reply": "2024-01-04T13:53:19.273893Z"
    },
    "papermill": {
     "duration": 0.10279,
     "end_time": "2024-01-04T13:53:19.277974",
     "exception": false,
     "start_time": "2024-01-04T13:53:19.175184",
     "status": "completed"
    },
    "tags": []
   },
   "outputs": [],
   "source": [
    "event=event.merge(user,on=\"user_id\")"
   ]
  },
  {
   "cell_type": "code",
   "execution_count": 29,
   "id": "3e02207e",
   "metadata": {
    "execution": {
     "iopub.execute_input": "2024-01-04T13:53:19.303004Z",
     "iopub.status.busy": "2024-01-04T13:53:19.302544Z",
     "iopub.status.idle": "2024-01-04T13:53:19.309098Z",
     "shell.execute_reply": "2024-01-04T13:53:19.308016Z"
    },
    "papermill": {
     "duration": 0.021715,
     "end_time": "2024-01-04T13:53:19.311152",
     "exception": false,
     "start_time": "2024-01-04T13:53:19.289437",
     "status": "completed"
    },
    "tags": []
   },
   "outputs": [],
   "source": [
    "event.drop(columns=[\"joinedAt\"], inplace=True)"
   ]
  },
  {
   "cell_type": "code",
   "execution_count": 30,
   "id": "f9279415",
   "metadata": {
    "execution": {
     "iopub.execute_input": "2024-01-04T13:53:19.335582Z",
     "iopub.status.busy": "2024-01-04T13:53:19.335138Z",
     "iopub.status.idle": "2024-01-04T13:53:19.351266Z",
     "shell.execute_reply": "2024-01-04T13:53:19.350205Z"
    },
    "papermill": {
     "duration": 0.030833,
     "end_time": "2024-01-04T13:53:19.353445",
     "exception": false,
     "start_time": "2024-01-04T13:53:19.322612",
     "status": "completed"
    },
    "tags": []
   },
   "outputs": [
    {
     "data": {
      "text/html": [
       "<div>\n",
       "<style scoped>\n",
       "    .dataframe tbody tr th:only-of-type {\n",
       "        vertical-align: middle;\n",
       "    }\n",
       "\n",
       "    .dataframe tbody tr th {\n",
       "        vertical-align: top;\n",
       "    }\n",
       "\n",
       "    .dataframe thead th {\n",
       "        text-align: right;\n",
       "    }\n",
       "</style>\n",
       "<table border=\"1\" class=\"dataframe\">\n",
       "  <thead>\n",
       "    <tr style=\"text-align: right;\">\n",
       "      <th></th>\n",
       "      <th>event_id</th>\n",
       "      <th>user_id</th>\n",
       "      <th>city</th>\n",
       "      <th>state</th>\n",
       "      <th>zip</th>\n",
       "      <th>country</th>\n",
       "      <th>locale</th>\n",
       "      <th>birthyear</th>\n",
       "      <th>gender</th>\n",
       "      <th>location</th>\n",
       "      <th>timezone</th>\n",
       "    </tr>\n",
       "  </thead>\n",
       "  <tbody>\n",
       "    <tr>\n",
       "      <th>0</th>\n",
       "      <td>3715070860</td>\n",
       "      <td>4072475571</td>\n",
       "      <td>Scottsdale</td>\n",
       "      <td>AZ</td>\n",
       "      <td>85251</td>\n",
       "      <td>United States</td>\n",
       "      <td>en_US</td>\n",
       "      <td>1986</td>\n",
       "      <td>male</td>\n",
       "      <td>Tempe  Arizona</td>\n",
       "      <td>-420.0</td>\n",
       "    </tr>\n",
       "    <tr>\n",
       "      <th>1</th>\n",
       "      <td>473058149</td>\n",
       "      <td>4072475571</td>\n",
       "      <td>Scottsdale</td>\n",
       "      <td>AZ</td>\n",
       "      <td>85251</td>\n",
       "      <td>United States</td>\n",
       "      <td>en_US</td>\n",
       "      <td>1986</td>\n",
       "      <td>male</td>\n",
       "      <td>Tempe  Arizona</td>\n",
       "      <td>-420.0</td>\n",
       "    </tr>\n",
       "    <tr>\n",
       "      <th>2</th>\n",
       "      <td>2470912453</td>\n",
       "      <td>4072475571</td>\n",
       "      <td>Scottsdale</td>\n",
       "      <td>AZ</td>\n",
       "      <td>85251</td>\n",
       "      <td>United States</td>\n",
       "      <td>en_US</td>\n",
       "      <td>1986</td>\n",
       "      <td>male</td>\n",
       "      <td>Tempe  Arizona</td>\n",
       "      <td>-420.0</td>\n",
       "    </tr>\n",
       "    <tr>\n",
       "      <th>3</th>\n",
       "      <td>726785080</td>\n",
       "      <td>4072475571</td>\n",
       "      <td>Scottsdale</td>\n",
       "      <td>AZ</td>\n",
       "      <td>85251</td>\n",
       "      <td>United States</td>\n",
       "      <td>en_US</td>\n",
       "      <td>1986</td>\n",
       "      <td>male</td>\n",
       "      <td>Tempe  Arizona</td>\n",
       "      <td>-420.0</td>\n",
       "    </tr>\n",
       "    <tr>\n",
       "      <th>4</th>\n",
       "      <td>2617055799</td>\n",
       "      <td>4072475571</td>\n",
       "      <td>Scottsdale</td>\n",
       "      <td>AZ</td>\n",
       "      <td>85251</td>\n",
       "      <td>United States</td>\n",
       "      <td>en_US</td>\n",
       "      <td>1986</td>\n",
       "      <td>male</td>\n",
       "      <td>Tempe  Arizona</td>\n",
       "      <td>-420.0</td>\n",
       "    </tr>\n",
       "  </tbody>\n",
       "</table>\n",
       "</div>"
      ],
      "text/plain": [
       "     event_id     user_id        city state    zip        country locale  \\\n",
       "0  3715070860  4072475571  Scottsdale    AZ  85251  United States  en_US   \n",
       "1   473058149  4072475571  Scottsdale    AZ  85251  United States  en_US   \n",
       "2  2470912453  4072475571  Scottsdale    AZ  85251  United States  en_US   \n",
       "3   726785080  4072475571  Scottsdale    AZ  85251  United States  en_US   \n",
       "4  2617055799  4072475571  Scottsdale    AZ  85251  United States  en_US   \n",
       "\n",
       "  birthyear gender        location  timezone  \n",
       "0      1986   male  Tempe  Arizona    -420.0  \n",
       "1      1986   male  Tempe  Arizona    -420.0  \n",
       "2      1986   male  Tempe  Arizona    -420.0  \n",
       "3      1986   male  Tempe  Arizona    -420.0  \n",
       "4      1986   male  Tempe  Arizona    -420.0  "
      ]
     },
     "execution_count": 30,
     "metadata": {},
     "output_type": "execute_result"
    }
   ],
   "source": [
    "event.head()"
   ]
  },
  {
   "cell_type": "code",
   "execution_count": 31,
   "id": "6b337fcb",
   "metadata": {
    "execution": {
     "iopub.execute_input": "2024-01-04T13:53:19.378798Z",
     "iopub.status.busy": "2024-01-04T13:53:19.378330Z",
     "iopub.status.idle": "2024-01-04T13:53:19.397259Z",
     "shell.execute_reply": "2024-01-04T13:53:19.396137Z"
    },
    "papermill": {
     "duration": 0.034549,
     "end_time": "2024-01-04T13:53:19.399595",
     "exception": false,
     "start_time": "2024-01-04T13:53:19.365046",
     "status": "completed"
    },
    "tags": []
   },
   "outputs": [
    {
     "data": {
      "text/html": [
       "<div>\n",
       "<style scoped>\n",
       "    .dataframe tbody tr th:only-of-type {\n",
       "        vertical-align: middle;\n",
       "    }\n",
       "\n",
       "    .dataframe tbody tr th {\n",
       "        vertical-align: top;\n",
       "    }\n",
       "\n",
       "    .dataframe thead th {\n",
       "        text-align: right;\n",
       "    }\n",
       "</style>\n",
       "<table border=\"1\" class=\"dataframe\">\n",
       "  <thead>\n",
       "    <tr style=\"text-align: right;\">\n",
       "      <th></th>\n",
       "      <th>event</th>\n",
       "      <th>num_interested</th>\n",
       "    </tr>\n",
       "  </thead>\n",
       "  <tbody>\n",
       "    <tr>\n",
       "      <th>3330</th>\n",
       "      <td>1616400535</td>\n",
       "      <td>1</td>\n",
       "    </tr>\n",
       "    <tr>\n",
       "      <th>3589</th>\n",
       "      <td>1728846117</td>\n",
       "      <td>1</td>\n",
       "    </tr>\n",
       "    <tr>\n",
       "      <th>3344</th>\n",
       "      <td>1622044817</td>\n",
       "      <td>1</td>\n",
       "    </tr>\n",
       "    <tr>\n",
       "      <th>1823</th>\n",
       "      <td>896838988</td>\n",
       "      <td>1</td>\n",
       "    </tr>\n",
       "    <tr>\n",
       "      <th>7863</th>\n",
       "      <td>3818735309</td>\n",
       "      <td>1</td>\n",
       "    </tr>\n",
       "    <tr>\n",
       "      <th>4984</th>\n",
       "      <td>2400649681</td>\n",
       "      <td>1</td>\n",
       "    </tr>\n",
       "    <tr>\n",
       "      <th>2227</th>\n",
       "      <td>1095401609</td>\n",
       "      <td>1</td>\n",
       "    </tr>\n",
       "    <tr>\n",
       "      <th>8640</th>\n",
       "      <td>4202341981</td>\n",
       "      <td>1</td>\n",
       "    </tr>\n",
       "    <tr>\n",
       "      <th>5626</th>\n",
       "      <td>2708243586</td>\n",
       "      <td>1</td>\n",
       "    </tr>\n",
       "    <tr>\n",
       "      <th>3103</th>\n",
       "      <td>1516467554</td>\n",
       "      <td>1</td>\n",
       "    </tr>\n",
       "  </tbody>\n",
       "</table>\n",
       "</div>"
      ],
      "text/plain": [
       "           event  num_interested\n",
       "3330  1616400535               1\n",
       "3589  1728846117               1\n",
       "3344  1622044817               1\n",
       "1823   896838988               1\n",
       "7863  3818735309               1\n",
       "4984  2400649681               1\n",
       "2227  1095401609               1\n",
       "8640  4202341981               1\n",
       "5626  2708243586               1\n",
       "3103  1516467554               1"
      ]
     },
     "execution_count": 31,
     "metadata": {},
     "output_type": "execute_result"
    }
   ],
   "source": [
    "num=train.groupby('event').count()['interested'].reset_index()\n",
    "num.rename(columns={'interested':\"num_interested\"},inplace=True)\n",
    "num.sample(10)"
   ]
  },
  {
   "cell_type": "code",
   "execution_count": 32,
   "id": "3cc7b20a",
   "metadata": {
    "execution": {
     "iopub.execute_input": "2024-01-04T13:53:19.425198Z",
     "iopub.status.busy": "2024-01-04T13:53:19.424724Z",
     "iopub.status.idle": "2024-01-04T13:53:19.442691Z",
     "shell.execute_reply": "2024-01-04T13:53:19.441573Z"
    },
    "papermill": {
     "duration": 0.033572,
     "end_time": "2024-01-04T13:53:19.444923",
     "exception": false,
     "start_time": "2024-01-04T13:53:19.411351",
     "status": "completed"
    },
    "tags": []
   },
   "outputs": [
    {
     "data": {
      "text/html": [
       "<div>\n",
       "<style scoped>\n",
       "    .dataframe tbody tr th:only-of-type {\n",
       "        vertical-align: middle;\n",
       "    }\n",
       "\n",
       "    .dataframe tbody tr th {\n",
       "        vertical-align: top;\n",
       "    }\n",
       "\n",
       "    .dataframe thead th {\n",
       "        text-align: right;\n",
       "    }\n",
       "</style>\n",
       "<table border=\"1\" class=\"dataframe\">\n",
       "  <thead>\n",
       "    <tr style=\"text-align: right;\">\n",
       "      <th></th>\n",
       "      <th>event</th>\n",
       "      <th>num_invited</th>\n",
       "    </tr>\n",
       "  </thead>\n",
       "  <tbody>\n",
       "    <tr>\n",
       "      <th>7697</th>\n",
       "      <td>3733102523</td>\n",
       "      <td>1</td>\n",
       "    </tr>\n",
       "    <tr>\n",
       "      <th>1470</th>\n",
       "      <td>729305487</td>\n",
       "      <td>1</td>\n",
       "    </tr>\n",
       "    <tr>\n",
       "      <th>3682</th>\n",
       "      <td>1769681665</td>\n",
       "      <td>1</td>\n",
       "    </tr>\n",
       "    <tr>\n",
       "      <th>537</th>\n",
       "      <td>259997168</td>\n",
       "      <td>1</td>\n",
       "    </tr>\n",
       "    <tr>\n",
       "      <th>4990</th>\n",
       "      <td>2403951537</td>\n",
       "      <td>1</td>\n",
       "    </tr>\n",
       "    <tr>\n",
       "      <th>3848</th>\n",
       "      <td>1841631859</td>\n",
       "      <td>1</td>\n",
       "    </tr>\n",
       "    <tr>\n",
       "      <th>3265</th>\n",
       "      <td>1591026841</td>\n",
       "      <td>1</td>\n",
       "    </tr>\n",
       "    <tr>\n",
       "      <th>6737</th>\n",
       "      <td>3260945424</td>\n",
       "      <td>1</td>\n",
       "    </tr>\n",
       "    <tr>\n",
       "      <th>1060</th>\n",
       "      <td>530788794</td>\n",
       "      <td>1</td>\n",
       "    </tr>\n",
       "    <tr>\n",
       "      <th>1172</th>\n",
       "      <td>587071307</td>\n",
       "      <td>1</td>\n",
       "    </tr>\n",
       "  </tbody>\n",
       "</table>\n",
       "</div>"
      ],
      "text/plain": [
       "           event  num_invited\n",
       "7697  3733102523            1\n",
       "1470   729305487            1\n",
       "3682  1769681665            1\n",
       "537    259997168            1\n",
       "4990  2403951537            1\n",
       "3848  1841631859            1\n",
       "3265  1591026841            1\n",
       "6737  3260945424            1\n",
       "1060   530788794            1\n",
       "1172   587071307            1"
      ]
     },
     "execution_count": 32,
     "metadata": {},
     "output_type": "execute_result"
    }
   ],
   "source": [
    "inv=train.groupby('event').count()['invited'].reset_index()\n",
    "inv.rename(columns={'invited':\"num_invited\"},inplace=True)\n",
    "inv.sample(10)"
   ]
  },
  {
   "cell_type": "code",
   "execution_count": null,
   "id": "a9e858fa",
   "metadata": {
    "papermill": {
     "duration": 0.011736,
     "end_time": "2024-01-04T13:53:19.468677",
     "exception": false,
     "start_time": "2024-01-04T13:53:19.456941",
     "status": "completed"
    },
    "tags": []
   },
   "outputs": [],
   "source": []
  },
  {
   "cell_type": "code",
   "execution_count": null,
   "id": "c9981b4b",
   "metadata": {
    "papermill": {
     "duration": 0.011495,
     "end_time": "2024-01-04T13:53:19.491966",
     "exception": false,
     "start_time": "2024-01-04T13:53:19.480471",
     "status": "completed"
    },
    "tags": []
   },
   "outputs": [],
   "source": []
  }
 ],
 "metadata": {
  "kaggle": {
   "accelerator": "none",
   "dataSources": [
    {
     "databundleVersionId": 31051,
     "sourceId": 3288,
     "sourceType": "competition"
    }
   ],
   "dockerImageVersionId": 30626,
   "isGpuEnabled": false,
   "isInternetEnabled": true,
   "language": "python",
   "sourceType": "notebook"
  },
  "kernelspec": {
   "display_name": "Python 3",
   "language": "python",
   "name": "python3"
  },
  "language_info": {
   "codemirror_mode": {
    "name": "ipython",
    "version": 3
   },
   "file_extension": ".py",
   "mimetype": "text/x-python",
   "name": "python",
   "nbconvert_exporter": "python",
   "pygments_lexer": "ipython3",
   "version": "3.10.12"
  },
  "papermill": {
   "default_parameters": {},
   "duration": 82.465698,
   "end_time": "2024-01-04T13:53:20.527440",
   "environment_variables": {},
   "exception": null,
   "input_path": "__notebook__.ipynb",
   "output_path": "__notebook__.ipynb",
   "parameters": {},
   "start_time": "2024-01-04T13:51:58.061742",
   "version": "2.4.0"
  }
 },
 "nbformat": 4,
 "nbformat_minor": 5
}
